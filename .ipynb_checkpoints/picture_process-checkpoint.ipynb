{
 "cells": [
  {
   "cell_type": "code",
   "execution_count": null,
   "metadata": {},
   "outputs": [],
   "source": [
    "from PIL import Image\n",
    "import matplotlib.pyplot as plt\n",
    "\n",
    "# 打开\n",
    "img = Image.open('F:\\\\Github_My\\\\DDPM\\\\work\\\\OPIXray\\\\009000.jpg')\n",
    "plt.imshow(img)\n",
    "# 按像素裁剪\n",
    "img_crop_result = img.crop((763,486,840,549))\n",
    "img_crop_result.save('F:\\\\Github_My\\\\DDPM\\\\work\\\\OPIXray\\\\009000_crop.jpg')\n",
    "plt.imshow(img_crop_result)"
   ]
  },
  {
   "cell_type": "code",
   "execution_count": 4,
   "metadata": {},
   "outputs": [],
   "source": [
    "import os\n",
    "from PIL import Image\n",
    "import matplotlib.pyplot as plt"
   ]
  },
  {
   "cell_type": "code",
   "execution_count": 43,
   "metadata": {},
   "outputs": [],
   "source": [
    "# 通过train_knife.txt，遍历包含刀的图片\n",
    "# print(os.getcwd())\n",
    "with open('F:\\\\Github_My\\\\DDPM\\\\work\\\\OPIXray\\\\train\\\\train_knife.txt', 'r') as f:\n",
    "    data = f.readlines()\n",
    "    # print(data)\n",
    "    for line in data:\n",
    "        # 去掉换行符\n",
    "        line = line.strip('\\n')\n",
    "        # 获取图片路径\n",
    "        # print('F:\\\\Github_My\\\\DDPM\\work\\\\OPIXray\\\\train\\\\train_image\\\\' + line + '' '.jpg')\n",
    "        img = Image.open('F:\\\\Github_My\\\\DDPM\\work\\\\OPIXray\\\\train\\\\train_image\\\\' + line + '' '.jpg')\n",
    "        # plt.imshow(img)\n",
    "        with open('F:\\\\Github_My\\\\DDPM\\\\work\\\\OPIXray\\\\train\\\\train_annotation\\\\' + line + '.txt', 'r') as f:\n",
    "            annotation = f.readline()\n",
    "            # print(annotation)\n",
    "            annotation = annotation.strip('\\n')\n",
    "            results = annotation.split(' ') \n",
    "            # print(results)\n",
    "            # print('F:\\\\Github_My\\\\DDPM\\\\work\\\\OPIXray\\\\train\\\\train_annotation\\\\' + results[1])\n",
    "            # 创建文件夹，保存裁剪后的文件\n",
    "            if not os.path.exists('F:\\\\Github_My\\\\DDPM\\\\work\\\\OPIXray\\\\train\\\\train_annotation\\\\' + results[1]):\n",
    "                os.mkdir('F:\\\\Github_My\\\\DDPM\\\\work\\\\OPIXray\\\\train\\\\train_annotation\\\\' + results[1])\n",
    "            \n",
    "            \n",
    "    # print('F:\\\\Github_My\\\\DDPM\\work\\\\OPIXray\\\\train\\\\train_image' + data + '.jpg')\n",
    "    # img = Image.open('F:\\\\Github_My\\\\DDPM\\work\\\\OPIXray\\\\train\\\\train_image' + data + '.jpg')\n",
    "\n",
    "# 打开图片，再打开其对应的annotation，找出四个像素点\n",
    "\n",
    "# 裁剪，并将裁剪后的图片进行保存"
   ]
  }
 ],
 "metadata": {
  "kernelspec": {
   "display_name": "Python 3 (ipykernel)",
   "language": "python",
   "name": "python3"
  },
  "language_info": {
   "codemirror_mode": {
    "name": "ipython",
    "version": 3
   },
   "file_extension": ".py",
   "mimetype": "text/x-python",
   "name": "python",
   "nbconvert_exporter": "python",
   "pygments_lexer": "ipython3",
   "version": "3.9.15"
  },
  "pycharm": {
   "stem_cell": {
    "cell_type": "raw",
    "metadata": {
     "collapsed": false
    },
    "source": []
   }
  }
 },
 "nbformat": 4,
 "nbformat_minor": 2
}
